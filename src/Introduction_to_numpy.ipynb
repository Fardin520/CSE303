{
 "cells": [
  {
   "cell_type": "code",
   "execution_count": null,
   "metadata": {},
   "outputs": [
    {
     "name": "stdout",
     "output_type": "stream",
     "text": [
      "[20.1, 20.8, 21.9, 22.5, 22.7, 22.3, 21.8, 21.2, 20.9, 20.1]\n",
      "<class 'list'>\n",
      "[20.1 20.8 21.9 22.5 22.7 22.3 21.8 21.2 20.9 20.1]\n",
      "<class 'numpy.ndarray'>\n"
     ]
    }
   ],
   "source": [
    "import numpy as np\n",
    "# create a Python list of temperature in degree celcius\n",
    "cvalues = [20.1, 20.8, 21.9, 22.5, 22.7, 22.3, 21.8, 21.2, 20.9,\n",
    "20.1]\n",
    "# converting this list into one-dimensional Numpy array\n",
    "C = np.array(cvalues)\n",
    "print(cvalues)\n",
    "print(type(cvalues))\n",
    "print(C)\n",
    "print(type(C))"
   ]
  },
  {
   "cell_type": "code",
   "execution_count": 5,
   "metadata": {},
   "outputs": [
    {
     "name": "stdout",
     "output_type": "stream",
     "text": [
      "[[46.4 50.  53.6]\n",
      " [57.2 60.8 64.4]]\n",
      "A:\n",
      " [[1 2 3]\n",
      " [4 5 6]]\n",
      "Shape of A:  (2, 3)\n",
      "B:\n",
      " [[ 7  8  9]\n",
      " [10 11 12]]\n",
      "Shape of B:  (2, 3)\n",
      "C:\n",
      " [[ 8 10 12]\n",
      " [14 16 18]]\n",
      "Shape of C:  (2, 3)\n"
     ]
    }
   ],
   "source": [
    "F = C * 9/5 + 32\n",
    "print(F)\n",
    "# A few other examples of scalar operations\n",
    "A = np.array([[1,2,3],[4,5,6]])\n",
    "print(\"A:\\n\",A)\n",
    "print(\"Shape of A: \",A.shape)\n",
    "B = np.array([[7,8,9],[10,11,12]])\n",
    "print(\"B:\\n\",B)\n",
    "print(\"Shape of B: \",B.shape)\n",
    "C = A + B\n",
    "print(\"C:\\n\",C)\n",
    "print(\"Shape of C: \",C.shape)"
   ]
  },
  {
   "cell_type": "code",
   "execution_count": null,
   "metadata": {},
   "outputs": [
    {
     "name": "stdout",
     "output_type": "stream",
     "text": [
      "b: \n",
      " [[ 1  2]\n",
      " [ 5  6]\n",
      " [ 9 10]]\n",
      "a[0][0]: \n",
      " 1\n",
      "a: \n",
      " [[ 1  2  3  4]\n",
      " [ 5  6  7  8]\n",
      " [ 9 10 11 12]]\n"
     ]
    }
   ],
   "source": [
    "a = np.array([[1,2,3,4], [5,6,7,8], [9,10,11,12]])\n",
    "b = a[:,0:2]\n",
    "print(\"b: \\n\",b)\n",
    "print(\"a[0][0]: \\n\",a[0,0]) \n",
    "print(\"a: \\n\",a)"
   ]
  },
  {
   "cell_type": "code",
   "execution_count": 10,
   "metadata": {},
   "outputs": [
    {
     "name": "stdout",
     "output_type": "stream",
     "text": [
      "Bool_Id: \n",
      " [[False False]\n",
      " [ True  True]\n",
      " [ True  True]]\n",
      "b: \n",
      " [3 4 5 6]\n",
      "type of b:  <class 'numpy.ndarray'>\n",
      "a: \n",
      " [array([[False, False],\n",
      "       [ True,  True],\n",
      "       [ True,  True]])]\n",
      "a: \n",
      " [3 4 5 6]\n"
     ]
    }
   ],
   "source": [
    "a = np.array([[1,2], [3, 4], [5, 6]])\n",
    "bool_idx = (a > 2)\n",
    "print(\"Bool_Id: \\n\",bool_idx)\n",
    "b = a[bool_idx]\n",
    "print(\"b: \\n\",b)\n",
    "print(\"type of b: \", type(b))\n",
    "print(\"a: \\n\",[bool_idx])\n",
    "# We can do all of the above in a single concise statement:\n",
    "print(\"a: \\n\",a[a > 2]) # Prints \"[3 4 5 6]\""
   ]
  },
  {
   "cell_type": "code",
   "execution_count": 13,
   "metadata": {},
   "outputs": [
    {
     "name": "stdout",
     "output_type": "stream",
     "text": [
      "X+Y:  [[ 6.  8.]\n",
      " [10. 12.]]\n",
      "Add:  [[ 6.  8.]\n",
      " [10. 12.]]\n",
      "x-y:  [[-4. -4.]\n",
      " [-4. -4.]]\n",
      "Substract:  [[-4. -4.]\n",
      " [-4. -4.]]\n",
      "x*y:  [[ 5. 12.]\n",
      " [21. 32.]]\n",
      "multiply:  [[ 5. 12.]\n",
      " [21. 32.]]\n",
      "x/y:  [[0.2        0.33333333]\n",
      " [0.42857143 0.5       ]]\n",
      "divide:  [[0.2        0.33333333]\n",
      " [0.42857143 0.5       ]]\n",
      "sqrt:  [[1.         1.41421356]\n",
      " [1.73205081 2.        ]]\n"
     ]
    }
   ],
   "source": [
    "x = np.array([[1,2],[3,4]], dtype=np.float64)\n",
    "y = np.array([[5,6],[7,8]], dtype=np.float64)\n",
    "# Elementwise sum\n",
    "print(\"X+Y: \",x + y)\n",
    "print(\"Add: \",np.add(x, y))\n",
    "# Elementwise difference\n",
    "print(\"x-y: \",x - y)\n",
    "print(\"Substract: \",np.subtract(x, y))\n",
    "# Elementwise product\n",
    "print(\"x*y: \",x * y)\n",
    "print(\"multiply: \",np.multiply(x, y))\n",
    "# Elementwise division\n",
    "print(\"x/y: \",x / y)\n",
    "print(\"divide: \",np.divide(x, y))\n",
    "# Elementwise square root\n",
    "print(\"sqrt: \",np.sqrt(x))"
   ]
  },
  {
   "cell_type": "markdown",
   "metadata": {},
   "source": [
    "## Vector and matrix multiplication: "
   ]
  },
  {
   "cell_type": "code",
   "execution_count": 18,
   "metadata": {},
   "outputs": [
    {
     "name": "stdout",
     "output_type": "stream",
     "text": [
      "Dot operation: \n",
      " 219\n",
      "Dot operation: \n",
      " 219\n",
      "Matrix with vector: \n",
      " [29. 67.]\n",
      "Matrix with vector: \n",
      " [29. 67.]\n",
      "Matrix with matrix: \n",
      " [[19. 22.]\n",
      " [43. 50.]]\n",
      "Matrix with matrix: \n",
      " [[19. 22.]\n",
      " [43. 50.]]\n"
     ]
    }
   ],
   "source": [
    "x = np.array([[1,2],[3,4]], dtype=np.float64)\n",
    "y = np.array([[5,6],[7,8]], dtype=np.float64)\n",
    "v = np.array([9,10])\n",
    "w = np.array([11, 12])\n",
    "# Inner product of vectors\n",
    "print(\"Dot operation: \\n\",v.dot(w))\n",
    "print(\"Dot operation: \\n\",np.dot(v, w))\n",
    "# Matrix / vector product\n",
    "print(\"Matrix with vector: \\n\",x.dot(v))\n",
    "print(\"Matrix with vector: \\n\",np.dot(x, v))\n",
    "# Matrix / matrix product\n",
    "print(\"Matrix with matrix: \\n\",x.dot(y))\n",
    "print(\"Matrix with matrix: \\n\",np.dot(x, y))"
   ]
  },
  {
   "cell_type": "code",
   "execution_count": 17,
   "metadata": {},
   "outputs": [
    {
     "name": "stdout",
     "output_type": "stream",
     "text": [
      "Sum:  10\n",
      "sum Axis 0:  [4 6]\n",
      "Sum axis 1:  [3 7]\n"
     ]
    }
   ],
   "source": [
    "x = np.array([[1,2],[3,4]])\n",
    "print(\"Sum: \",np.sum(x)) # Compute sum of all elements\n",
    "print(\"sum Axis 0: \",np.sum(x, axis=0)) # Compute sum of each column\n",
    "print(\"Sum axis 1: \",np.sum(x, axis=1)) # Compute sum of each row"
   ]
  },
  {
   "cell_type": "code",
   "execution_count": 26,
   "metadata": {},
   "outputs": [
    {
     "name": "stdout",
     "output_type": "stream",
     "text": [
      "0.5\n",
      "[[0 1]\n",
      " [2 3]\n",
      " [4 5]]\n",
      "[2. 3.]\n",
      "[0.5 2.5 4.5]\n"
     ]
    }
   ],
   "source": [
    "data1 = np.arange(1.5)\n",
    "print(np.average(data1))\n",
    "data2 = np.arange(6).reshape(3,2)\n",
    "print(data2)\n",
    "print(np.average(data2, axis = 0))\n",
    "print(np.average(data2, axis = 1))"
   ]
  }
 ],
 "metadata": {
  "kernelspec": {
   "display_name": "base",
   "language": "python",
   "name": "python3"
  },
  "language_info": {
   "codemirror_mode": {
    "name": "ipython",
    "version": 3
   },
   "file_extension": ".py",
   "mimetype": "text/x-python",
   "name": "python",
   "nbconvert_exporter": "python",
   "pygments_lexer": "ipython3",
   "version": "3.12.7"
  }
 },
 "nbformat": 4,
 "nbformat_minor": 2
}
